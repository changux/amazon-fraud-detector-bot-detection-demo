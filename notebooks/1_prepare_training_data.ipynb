{
 "cells": [
  {
   "cell_type": "markdown",
   "metadata": {},
   "source": [
    "# Preparing the training data"
   ]
  },
  {
   "cell_type": "markdown",
   "metadata": {},
   "source": [
    "The idea here is to use the [official AFD training data](https://docs.aws.amazon.com/frauddetector/latest/ug/samples/training_data.zip) and amend it in two dimensions:\n",
    "1. Add a new feature *registration time* that indicates how long the user took to filling and submit the registration form. The basic idea is that bots are much more likely to take much less time to register as they aim to create multiple fake accounts in a short amount of time\n",
    "1. Manipulate the email addresses so that fraudulent sign-ups are much more likely to use a randomised string as user name"
   ]
  },
  {
   "cell_type": "code",
   "execution_count": 3,
   "metadata": {},
   "outputs": [
    {
     "name": "stdout",
     "output_type": "stream",
     "text": [
      "/home/ec2-user/SageMaker/amazon-fraud-detector-bot-detection-demo/notebooks\r\n"
     ]
    }
   ],
   "source": [
    "!pwd"
   ]
  },
  {
   "cell_type": "markdown",
   "metadata": {},
   "source": [
    "## Download of data and import of required packages"
   ]
  },
  {
   "cell_type": "code",
   "execution_count": 4,
   "metadata": {},
   "outputs": [
    {
     "name": "stdout",
     "output_type": "stream",
     "text": [
      "  % Total    % Received % Xferd  Average Speed   Time    Time     Time  Current\n",
      "                                 Dload  Upload   Total   Spent    Left  Speed\n",
      "100 1504k  100 1504k    0     0  4426k      0 --:--:-- --:--:-- --:--:-- 4439k\n",
      "Archive:  ./data/training_data.zip\n",
      "  inflating: ./data/registration_data_20K_full.csv  \n",
      "  inflating: ./data/registration_data_20K_minimum.csv  \n"
     ]
    }
   ],
   "source": [
    "!mkdir data\n",
    "!curl https://docs.aws.amazon.com/frauddetector/latest/ug/samples/training_data.zip --output ./data/training_data.zip\n",
    "!unzip -o ./data/training_data.zip -d ./data/"
   ]
  },
  {
   "cell_type": "code",
   "execution_count": 5,
   "metadata": {},
   "outputs": [
    {
     "name": "stdout",
     "output_type": "stream",
     "text": [
      "Looking in indexes: https://pypi.org/simple, https://pip.repos.neuron.amazonaws.com\n",
      "Collecting zxcvbn\n",
      "  Downloading zxcvbn-4.4.28.tar.gz (407 kB)\n",
      "\u001b[2K     \u001b[90m━━━━━━━━━━━━━━━━━━━━━━━━━━━━━━━━━━━━━━━\u001b[0m \u001b[32m407.9/407.9 kB\u001b[0m \u001b[31m7.3 MB/s\u001b[0m eta \u001b[36m0:00:00\u001b[0m00:01\u001b[0m\n",
      "\u001b[?25h  Preparing metadata (setup.py) ... \u001b[?25ldone\n",
      "\u001b[?25hBuilding wheels for collected packages: zxcvbn\n",
      "  Building wheel for zxcvbn (setup.py) ... \u001b[?25ldone\n",
      "\u001b[?25h  Created wheel for zxcvbn: filename=zxcvbn-4.4.28-py2.py3-none-any.whl size=408125 sha256=a9fe3d0208eb44bb2c69a91c102958b69c7ed04b1d6afe5c32ac5aa3ca87732d\n",
      "  Stored in directory: /home/ec2-user/.cache/pip/wheels/ef/89/c6/a0e065af99073821bb4b83f6ec0561e981fc00498fe8e9c45d\n",
      "Successfully built zxcvbn\n",
      "Installing collected packages: zxcvbn\n",
      "Successfully installed zxcvbn-4.4.28\n"
     ]
    }
   ],
   "source": [
    "!pip install zxcvbn"
   ]
  },
  {
   "cell_type": "code",
   "execution_count": 6,
   "metadata": {},
   "outputs": [],
   "source": [
    "import pandas as pd\n",
    "import numpy as np\n",
    "from scipy.stats import skewnorm\n",
    "import string\n",
    "import secrets\n",
    "from zxcvbn import zxcvbn"
   ]
  },
  {
   "cell_type": "markdown",
   "metadata": {},
   "source": [
    "This function creates a random string between 6 and 12 characters long"
   ]
  },
  {
   "cell_type": "code",
   "execution_count": 7,
   "metadata": {},
   "outputs": [],
   "source": [
    "def create_random_uname():\n",
    "    len = np.random.randint(6, 12)\n",
    "    uname = ''.join(secrets.choice(string.ascii_lowercase) for _ in range(len))\n",
    "    return uname"
   ]
  },
  {
   "cell_type": "markdown",
   "metadata": {},
   "source": [
    "## Manipulating the training data"
   ]
  },
  {
   "cell_type": "code",
   "execution_count": 8,
   "metadata": {},
   "outputs": [],
   "source": [
    "df = pd.read_csv('data/registration_data_20K_minimum.csv')"
   ]
  },
  {
   "cell_type": "markdown",
   "metadata": {},
   "source": [
    "This cell will distribute new labels to the data set -- 90% of the observations will be labelled *legitimate* and 10% will be labelled *fraudulent*."
   ]
  },
  {
   "cell_type": "code",
   "execution_count": 9,
   "metadata": {},
   "outputs": [],
   "source": [
    "df['random1'] = np.random.rand(df.shape[0])\n",
    "df['random2'] = np.random.rand(df.shape[0])\n",
    "df['new_label'] = df['random1'].apply(lambda x: 'legit' if x <= .9 else 'fraud')\n",
    "df['registration_time'] = 0"
   ]
  },
  {
   "cell_type": "markdown",
   "metadata": {},
   "source": [
    "This cell will populate the new features (registration_time & user name) for the legitimate observations. The registration time will be distributed in a skew normal distribution with a long tail to account for users that take longer to complete the registration form. The user name for legitimate sign-ups will stay the same as in the original data set 95% of the time. In 5% of the cases the user name will be a random string."
   ]
  },
  {
   "cell_type": "code",
   "execution_count": 10,
   "metadata": {},
   "outputs": [],
   "source": [
    "pd.options.mode.chained_assignment = None \n",
    "df_legit = df[df['new_label'] == 'legit']\n",
    "df_legit['registration_time'] = skewnorm.rvs(10, loc=7000, scale=15000, size=df_legit.shape[0])\n",
    "df_legit['new_email'] = df_legit['email_address'].str[5:]\n",
    "df_legit['email_uname'] = df_legit['new_email'].apply(lambda x: x.split('@')[0])\n",
    "df_legit['email_domain'] = df_legit['new_email'].apply(lambda x: x.split('@')[1])\n",
    "df_legit['new_uname'] = df_legit.apply(lambda x: x['email_uname'] if x['random2'] <= .95 else create_random_uname(), axis=1)"
   ]
  },
  {
   "cell_type": "markdown",
   "metadata": {},
   "source": [
    "For fraudulent observations the registration time will be much shorter (skew noraml distribution with 2000 ms as center) and in 95% of the cases the user name will be a random string."
   ]
  },
  {
   "cell_type": "code",
   "execution_count": 14,
   "metadata": {},
   "outputs": [],
   "source": [
    "df_fraud = df[df['new_label'] == 'fraud']\n",
    "df_fraud['registration_time'] = skewnorm.rvs(4, loc=2000, scale=2000, size=df_fraud.shape[0])\n",
    "df_fraud['new_email'] = df_fraud['email_address'].str[5:]\n",
    "df_fraud['email_uname'] = df_fraud['new_email'].apply(lambda x: x.split('@')[0])\n",
    "df_fraud['email_domain'] = df_fraud['new_email'].apply(lambda x: x.split('@')[1])\n",
    "df_fraud['new_uname'] = df_fraud.apply(lambda x: x['email_uname'] if x['random2'] >= .95 else create_random_uname(), axis=1)"
   ]
  },
  {
   "cell_type": "code",
   "execution_count": 15,
   "metadata": {},
   "outputs": [],
   "source": [
    "#df = df_legit.append(df_fraud)\n",
    "df = pd.concat([df_legit, df_fraud], ignore_index=True)\n",
    "df = df.sort_index()"
   ]
  },
  {
   "cell_type": "markdown",
   "metadata": {},
   "source": [
    "In this demo the email domain will be the same for all observations so that the model will be able to pick up on the randomness of the user name as a useful signal. But of course it might be worthwhile to amend the email domain as well to add another dimension to the model."
   ]
  },
  {
   "cell_type": "code",
   "execution_count": 16,
   "metadata": {},
   "outputs": [],
   "source": [
    "df['new_email'] = df['new_uname'] + '@example.com'"
   ]
  },
  {
   "cell_type": "markdown",
   "metadata": {},
   "source": [
    "Capping the registration time so that there will be no negative values "
   ]
  },
  {
   "cell_type": "code",
   "execution_count": 17,
   "metadata": {},
   "outputs": [],
   "source": [
    "df['registration_time'] = df['registration_time'].apply(lambda x: 100 if x < 100 else x)\n",
    "df['registration_time'] = df['registration_time'].apply(int)\n",
    "df['EVENT_LABEL'] = df['new_label']"
   ]
  },
  {
   "cell_type": "markdown",
   "metadata": {},
   "source": [
    "Calculates the randomness of the user names, which will be used later to visualise the data along this dimension"
   ]
  },
  {
   "cell_type": "code",
   "execution_count": 18,
   "metadata": {},
   "outputs": [],
   "source": [
    "df['randomness_uname'] = df['new_uname'].apply(lambda x: zxcvbn(x)['guesses_log10'] + (np.random.rand() - .5))"
   ]
  },
  {
   "cell_type": "markdown",
   "metadata": {},
   "source": [
    "Writing the training data into a csv file"
   ]
  },
  {
   "cell_type": "code",
   "execution_count": 19,
   "metadata": {},
   "outputs": [],
   "source": [
    "df_out = df[['ip_address', 'new_email', 'registration_time', 'EVENT_TIMESTAMP', 'new_label']]\n",
    "df_out.columns = ['ip_address', 'email_address', 'registration_time', 'EVENT_TIMESTAMP', 'EVENT_LABEL']\n",
    "df_out.to_csv('data/afd_training_data.csv', index=False)"
   ]
  },
  {
   "cell_type": "code",
   "execution_count": 20,
   "metadata": {},
   "outputs": [
    {
     "data": {
      "text/html": [
       "<div>\n",
       "<style scoped>\n",
       "    .dataframe tbody tr th:only-of-type {\n",
       "        vertical-align: middle;\n",
       "    }\n",
       "\n",
       "    .dataframe tbody tr th {\n",
       "        vertical-align: top;\n",
       "    }\n",
       "\n",
       "    .dataframe thead th {\n",
       "        text-align: right;\n",
       "    }\n",
       "</style>\n",
       "<table border=\"1\" class=\"dataframe\">\n",
       "  <thead>\n",
       "    <tr style=\"text-align: right;\">\n",
       "      <th></th>\n",
       "      <th>ip_address</th>\n",
       "      <th>email_address</th>\n",
       "      <th>registration_time</th>\n",
       "      <th>EVENT_TIMESTAMP</th>\n",
       "      <th>EVENT_LABEL</th>\n",
       "    </tr>\n",
       "  </thead>\n",
       "  <tbody>\n",
       "    <tr>\n",
       "      <th>0</th>\n",
       "      <td>46.41.252.160</td>\n",
       "      <td>acostasusan@example.com</td>\n",
       "      <td>7470</td>\n",
       "      <td>10/8/2019 20:44</td>\n",
       "      <td>legit</td>\n",
       "    </tr>\n",
       "    <tr>\n",
       "      <th>1</th>\n",
       "      <td>152.58.247.12</td>\n",
       "      <td>christopheryoung@example.com</td>\n",
       "      <td>35891</td>\n",
       "      <td>5/23/2020 19:44</td>\n",
       "      <td>legit</td>\n",
       "    </tr>\n",
       "    <tr>\n",
       "      <th>2</th>\n",
       "      <td>12.252.206.222</td>\n",
       "      <td>jeffrey09@example.com</td>\n",
       "      <td>20574</td>\n",
       "      <td>4/24/2020 18:26</td>\n",
       "      <td>legit</td>\n",
       "    </tr>\n",
       "    <tr>\n",
       "      <th>3</th>\n",
       "      <td>170.81.164.240</td>\n",
       "      <td>ncastro@example.com</td>\n",
       "      <td>8240</td>\n",
       "      <td>4/22/2020 19:07</td>\n",
       "      <td>legit</td>\n",
       "    </tr>\n",
       "    <tr>\n",
       "      <th>4</th>\n",
       "      <td>165.182.68.217</td>\n",
       "      <td>charles99@example.com</td>\n",
       "      <td>11117</td>\n",
       "      <td>12/31/2019 17:08</td>\n",
       "      <td>legit</td>\n",
       "    </tr>\n",
       "  </tbody>\n",
       "</table>\n",
       "</div>"
      ],
      "text/plain": [
       "       ip_address                 email_address  registration_time   \n",
       "0   46.41.252.160       acostasusan@example.com               7470  \\\n",
       "1   152.58.247.12  christopheryoung@example.com              35891   \n",
       "2  12.252.206.222         jeffrey09@example.com              20574   \n",
       "3  170.81.164.240           ncastro@example.com               8240   \n",
       "4  165.182.68.217         charles99@example.com              11117   \n",
       "\n",
       "    EVENT_TIMESTAMP EVENT_LABEL  \n",
       "0   10/8/2019 20:44       legit  \n",
       "1   5/23/2020 19:44       legit  \n",
       "2   4/24/2020 18:26       legit  \n",
       "3   4/22/2020 19:07       legit  \n",
       "4  12/31/2019 17:08       legit  "
      ]
     },
     "execution_count": 20,
     "metadata": {},
     "output_type": "execute_result"
    }
   ],
   "source": [
    "df_out.head()"
   ]
  },
  {
   "cell_type": "code",
   "execution_count": 21,
   "metadata": {},
   "outputs": [],
   "source": [
    "import matplotlib.pyplot as plt\n",
    "import seaborn as sns"
   ]
  },
  {
   "cell_type": "markdown",
   "metadata": {},
   "source": [
    "## Plotting the training data"
   ]
  },
  {
   "cell_type": "markdown",
   "metadata": {},
   "source": [
    "First, the data will be plotted along the registration time feature to visualise the distribution for legitimate vs fraudulent sign-ups"
   ]
  },
  {
   "cell_type": "code",
   "execution_count": 22,
   "metadata": {},
   "outputs": [
    {
     "name": "stderr",
     "output_type": "stream",
     "text": [
      "/tmp/ipykernel_10815/3312238232.py:1: UserWarning: \n",
      "\n",
      "`distplot` is a deprecated function and will be removed in seaborn v0.14.0.\n",
      "\n",
      "Please adapt your code to use either `displot` (a figure-level function with\n",
      "similar flexibility) or `histplot` (an axes-level function for histograms).\n",
      "\n",
      "For a guide to updating your code to use the new functions, please see\n",
      "https://gist.github.com/mwaskom/de44147ed2974457ad6372750bbe5751\n",
      "\n",
      "  sns.distplot(df[df['new_label'] == 'legit']['registration_time'])\n",
      "/tmp/ipykernel_10815/3312238232.py:2: UserWarning: \n",
      "\n",
      "`distplot` is a deprecated function and will be removed in seaborn v0.14.0.\n",
      "\n",
      "Please adapt your code to use either `displot` (a figure-level function with\n",
      "similar flexibility) or `histplot` (an axes-level function for histograms).\n",
      "\n",
      "For a guide to updating your code to use the new functions, please see\n",
      "https://gist.github.com/mwaskom/de44147ed2974457ad6372750bbe5751\n",
      "\n",
      "  sns.distplot(df[df['new_label'] == 'fraud']['registration_time'])\n"
     ]
    },
    {
     "data": {
      "text/plain": [
       "<matplotlib.legend.Legend at 0x7fe96de4afb0>"
      ]
     },
     "execution_count": 22,
     "metadata": {},
     "output_type": "execute_result"
    },
    {
     "data": {
      "image/png": "[encoded data removed]",
      "text/plain": [
       "<Figure size 640x480 with 1 Axes>"
      ]
     },
     "metadata": {},
     "output_type": "display_data"
    }
   ],
   "source": [
    "sns.distplot(df[df['new_label'] == 'legit']['registration_time'])\n",
    "sns.distplot(df[df['new_label'] == 'fraud']['registration_time'])\n",
    "plt.legend(labels=['legit', 'bot'])"
   ]
  },
  {
   "cell_type": "markdown",
   "metadata": {},
   "source": [
    "Then, the same is done for the randomness of the user names:"
   ]
  },
  {
   "cell_type": "code",
   "execution_count": 23,
   "metadata": {},
   "outputs": [
    {
     "name": "stderr",
     "output_type": "stream",
     "text": [
      "/tmp/ipykernel_10815/2688275694.py:1: UserWarning: \n",
      "\n",
      "`distplot` is a deprecated function and will be removed in seaborn v0.14.0.\n",
      "\n",
      "Please adapt your code to use either `displot` (a figure-level function with\n",
      "similar flexibility) or `histplot` (an axes-level function for histograms).\n",
      "\n",
      "For a guide to updating your code to use the new functions, please see\n",
      "https://gist.github.com/mwaskom/de44147ed2974457ad6372750bbe5751\n",
      "\n",
      "  sns.distplot(df[df['new_label'] == 'legit']['randomness_uname'])\n",
      "/tmp/ipykernel_10815/2688275694.py:2: UserWarning: \n",
      "\n",
      "`distplot` is a deprecated function and will be removed in seaborn v0.14.0.\n",
      "\n",
      "Please adapt your code to use either `displot` (a figure-level function with\n",
      "similar flexibility) or `histplot` (an axes-level function for histograms).\n",
      "\n",
      "For a guide to updating your code to use the new functions, please see\n",
      "https://gist.github.com/mwaskom/de44147ed2974457ad6372750bbe5751\n",
      "\n",
      "  sns.distplot(df[df['new_label'] == 'fraud']['randomness_uname'])\n"
     ]
    },
    {
     "data": {
      "text/plain": [
       "<matplotlib.legend.Legend at 0x7fe96ddf5330>"
      ]
     },
     "execution_count": 23,
     "metadata": {},
     "output_type": "execute_result"
    },
    {
     "data": {
      "image/png": "[encoded data removed]",
      "text/plain": [
       "<Figure size 640x480 with 1 Axes>"
      ]
     },
     "metadata": {},
     "output_type": "display_data"
    }
   ],
   "source": [
    "sns.distplot(df[df['new_label'] == 'legit']['randomness_uname'])\n",
    "sns.distplot(df[df['new_label'] == 'fraud']['randomness_uname'])\n",
    "plt.legend(labels=['legit', 'bot'])"
   ]
  },
  {
   "cell_type": "code",
   "execution_count": null,
   "metadata": {},
   "outputs": [],
   "source": []
  }
 ],
 "metadata": {
  "kernelspec": {
   "display_name": "conda_python3",
   "language": "python",
   "name": "conda_python3"
  },
  "language_info": {
   "codemirror_mode": {
    "name": "ipython",
    "version": 3
   },
   "file_extension": ".py",
   "mimetype": "text/x-python",
   "name": "python",
   "nbconvert_exporter": "python",
   "pygments_lexer": "ipython3",
   "version": "3.10.10"
  }
 },
 "nbformat": 4,
 "nbformat_minor": 4
}

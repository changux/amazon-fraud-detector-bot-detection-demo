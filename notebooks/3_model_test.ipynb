{
 "cells": [
  {
   "cell_type": "markdown",
   "metadata": {},
   "source": [
    "## Test the model (fraudulent sign-up)"
   ]
  },
  {
   "cell_type": "code",
   "execution_count": 5,
   "metadata": {},
   "outputs": [],
   "source": [
    "import boto3\n",
    "fraudDetector = boto3.client('frauddetector')"
   ]
  },
  {
   "cell_type": "code",
   "execution_count": 6,
   "metadata": {},
   "outputs": [
    {
     "data": {
      "text/plain": [
       "{'modelScores': [{'modelVersion': {'modelId': 'sample_fraud_detection_model',\n",
       "    'modelType': 'ONLINE_FRAUD_INSIGHTS',\n",
       "    'modelVersionNumber': '1.0'},\n",
       "   'scores': {'sample_fraud_detection_model_insightscore': 992.0}}],\n",
       " 'ruleResults': [{'ruleId': 'high_fraud_risk', 'outcomes': ['review']}],\n",
       " 'externalModelOutputs': [],\n",
       " 'ResponseMetadata': {'RequestId': '7684029c-4eb9-4b40-93d3-414c1a833d5a',\n",
       "  'HTTPStatusCode': 200,\n",
       "  'HTTPHeaders': {'date': 'Sun, 23 Jul 2023 03:07:38 GMT',\n",
       "   'content-type': 'application/x-amz-json-1.1',\n",
       "   'content-length': '294',\n",
       "   'connection': 'keep-alive',\n",
       "   'x-amzn-requestid': '7684029c-4eb9-4b40-93d3-414c1a833d5a'},\n",
       "  'RetryAttempts': 0}}"
      ]
     },
     "execution_count": 6,
     "metadata": {},
     "output_type": "execute_result"
    }
   ],
   "source": [
    "fraudDetector.get_event_prediction(\n",
    "detectorId = 'sample_detector',\n",
    "eventId = '802454d3-f7d8-482d-97e8-c4b6db9a0428',\n",
    "eventTypeName = 'sample_registration',\n",
    "eventTimestamp = '2020-07-13T23:18:21Z',\n",
    "entities = [{'entityType':'sample_customer', 'entityId':'12345'}],\n",
    "eventVariables = {\n",
    "    'email_address' : 'aiefjoj@exampledomain.com',\n",
    "    'ip_address' : '1.2.3.4',\n",
    "    'registration_time': '5000'\n",
    "}\n",
    ")"
   ]
  },
  {
   "cell_type": "markdown",
   "metadata": {},
   "source": [
    "This test uses a registration time of 5000 ms and returns therefore a high risk score (>950). Therefore, this is classified as a fraudulent registration. "
   ]
  },
  {
   "cell_type": "markdown",
   "metadata": {},
   "source": [
    "## Test the model (legitimate sign-up)"
   ]
  },
  {
   "cell_type": "code",
   "execution_count": 7,
   "metadata": {},
   "outputs": [
    {
     "data": {
      "text/plain": [
       "{'modelScores': [{'modelVersion': {'modelId': 'sample_fraud_detection_model',\n",
       "    'modelType': 'ONLINE_FRAUD_INSIGHTS',\n",
       "    'modelVersionNumber': '1.0'},\n",
       "   'scores': {'sample_fraud_detection_model_insightscore': 817.0}}],\n",
       " 'ruleResults': [{'ruleId': 'low_fraud_risk', 'outcomes': ['approve']}],\n",
       " 'externalModelOutputs': [],\n",
       " 'ResponseMetadata': {'RequestId': 'a6845314-5ea7-418e-9a63-cd667587a77a',\n",
       "  'HTTPStatusCode': 200,\n",
       "  'HTTPHeaders': {'date': 'Sun, 23 Jul 2023 03:07:45 GMT',\n",
       "   'content-type': 'application/x-amz-json-1.1',\n",
       "   'content-length': '294',\n",
       "   'connection': 'keep-alive',\n",
       "   'x-amzn-requestid': 'a6845314-5ea7-418e-9a63-cd667587a77a'},\n",
       "  'RetryAttempts': 0}}"
      ]
     },
     "execution_count": 7,
     "metadata": {},
     "output_type": "execute_result"
    }
   ],
   "source": [
    "fraudDetector.get_event_prediction(\n",
    "detectorId = 'sample_detector',\n",
    "eventId = '802454d3-f7d8-482d-97e8-c4b6db9a0428',\n",
    "eventTypeName = 'sample_registration',\n",
    "eventTimestamp = '2020-07-13T23:18:21Z',\n",
    "entities = [{'entityType':'sample_customer', 'entityId':'12345'}],\n",
    "eventVariables = {\n",
    "    'email_address' : 'johndoe@exampledomain.com',\n",
    "    'ip_address' : '1.2.3.4',\n",
    "    'registration_time': '8000'\n",
    "}\n",
    ")"
   ]
  },
  {
   "cell_type": "markdown",
   "metadata": {},
   "source": [
    "This test uses a registration time of 8000 ms and returns therefore a low risk score (<950). Therefore, this is classified as a legitimate registration. "
   ]
  }
 ],
 "metadata": {
  "kernelspec": {
   "display_name": "conda_python3",
   "language": "python",
   "name": "conda_python3"
  },
  "language_info": {
   "codemirror_mode": {
    "name": "ipython",
    "version": 3
   },
   "file_extension": ".py",
   "mimetype": "text/x-python",
   "name": "python",
   "nbconvert_exporter": "python",
   "pygments_lexer": "ipython3",
   "version": "3.10.10"
  }
 },
 "nbformat": 4,
 "nbformat_minor": 4
}
